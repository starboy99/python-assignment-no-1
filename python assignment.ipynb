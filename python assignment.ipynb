{
 "cells": [
  {
   "cell_type": "code",
   "execution_count": 1,
   "metadata": {},
   "outputs": [
    {
     "name": "stdout",
     "output_type": "stream",
     "text": [
      "Twinkle, twinkle, little star ,\n",
      "      How I wonder what you are!\n",
      "           Up above the world so high,\n",
      "           Like a diamond in the sky.\n",
      " Twinkle, twinkle, little star,\n",
      "     How I wonder what you are\n"
     ]
    }
   ],
   "source": [
    "a  =   \"Twinkle, twinkle, little star ,\\n\"\n",
    "b =   \"     How I wonder what you are!\\n\"\n",
    "c =   \"          Up above the world so high,\\n\"\n",
    "d =   \"          Like a diamond in the sky.\\n\"\n",
    "e =   \"Twinkle, twinkle, little star,\\n\"\n",
    "f  =   \"    How I wonder what you are\"\n",
    "print(a,b,c,d,e,f)"
   ]
  },
  {
   "cell_type": "code",
   "execution_count": 10,
   "metadata": {},
   "outputs": [
    {
     "name": "stdout",
     "output_type": "stream",
     "text": [
      "Python version\n",
      "3.7.3 (default, Apr 24 2019, 15:29:51) [MSC v.1915 64 bit (AMD64)]\n",
      "Version info\n",
      "sys.version_info(major=3, minor=7, micro=3, releaselevel='final', serial=0)\n"
     ]
    }
   ],
   "source": [
    "import sys\n",
    "print(\"Python version\")\n",
    "print (sys.version)\n",
    "print(\"Version info\")\n",
    "print (sys.version_info)"
   ]
  },
  {
   "cell_type": "code",
   "execution_count": 3,
   "metadata": {},
   "outputs": [
    {
     "name": "stdout",
     "output_type": "stream",
     "text": [
      "Current Date and Time:  20:27:41 Tuesday, November 05th, 2019\n"
     ]
    }
   ],
   "source": [
    "import datetime\n",
    "now = datetime.datetime.now()\n",
    "\n",
    "print(\"Current Date and Time: \" , now.strftime('%H:%M:%S %A, %B %dth, %Y'))"
   ]
  },
  {
   "cell_type": "code",
   "execution_count": 4,
   "metadata": {},
   "outputs": [
    {
     "name": "stdout",
     "output_type": "stream",
     "text": [
      "Please enter the Radius of a circle 12\n",
      "radius is :  12\n",
      "Area of the circle is  452.3893421169302\n"
     ]
    }
   ],
   "source": [
    "from math import pi\n",
    "radius=input(\"Please enter the Radius of a circle \")\n",
    "print(\"radius is : \", radius)\n",
    "area=pi*float(radius)**2\n",
    "print(\"Area of the circle is \", area)"
   ]
  },
  {
   "cell_type": "code",
   "execution_count": 6,
   "metadata": {},
   "outputs": [
    {
     "name": "stdout",
     "output_type": "stream",
     "text": [
      "Enter Your First Name: noman\n",
      "Enter your Last Name: ahmed\n",
      " Name In Reverse Order:  ahmed , noman\n"
     ]
    }
   ],
   "source": [
    "firstName=input(\"Enter Your First Name: \")\n",
    "lastName =input(\"Enter your Last Name: \")\n",
    "print(\" Name In Reverse Order: \",lastName,\",\",firstName)"
   ]
  },
  {
   "cell_type": "code",
   "execution_count": 7,
   "metadata": {},
   "outputs": [
    {
     "name": "stdout",
     "output_type": "stream",
     "text": [
      "Enter First Value12\n",
      "Enter second Value13\n",
      "Addition:  25\n"
     ]
    }
   ],
   "source": [
    "x= int(input(\"Enter First Value\"))\n",
    "y=int(input(\"Enter second Value\"))\n",
    "Add= x+y\n",
    "print (\"Addition: \", Add)"
   ]
  }
 ],
 "metadata": {
  "kernelspec": {
   "display_name": "Python 3",
   "language": "python",
   "name": "python3"
  },
  "language_info": {
   "codemirror_mode": {
    "name": "ipython",
    "version": 3
   },
   "file_extension": ".py",
   "mimetype": "text/x-python",
   "name": "python",
   "nbconvert_exporter": "python",
   "pygments_lexer": "ipython3",
   "version": "3.7.3"
  }
 },
 "nbformat": 4,
 "nbformat_minor": 2
}
